{
 "cells": [
  {
   "cell_type": "markdown",
   "metadata": {
    "pycharm": {
     "name": "#%% md\n"
    }
   },
   "source": [
    "## Generative Adversarial Networks (GAN)"
   ]
  },
  {
   "cell_type": "markdown",
   "metadata": {
    "collapsed": false,
    "pycharm": {
     "name": "#%%\n"
    }
   },
   "source": [
    "Introduced by Ian Goodfelllow in 2014: two deep networks, called **Generator** and **Discriminator**, that compete and cooperate with each other."
   ]
  },
  {
   "cell_type": "code",
   "execution_count": 1,
   "metadata": {},
   "outputs": [],
   "source": [
    "import numpy as np\n",
    "import matplotlib.pyplot as plt\n",
    "from keras.models import Sequential, Model, load_model\n",
    "from keras.layers import Dense, Reshape, Flatten, Conv2D, Conv2DTranspose, LeakyReLU, Input, BatchNormalization\n",
    "from keras.optimizers import Adam\n",
    "from keras.datasets.mnist import load_data\n",
    "from tqdm import tqdm\n",
    "\n",
    "plt.style.use(\"dark_background\")"
   ]
  },
  {
   "cell_type": "code",
   "execution_count": 2,
   "metadata": {},
   "outputs": [
    {
     "data": {
      "text/plain": [
       "((60000, 28, 28), -1.0, 1.0)"
      ]
     },
     "execution_count": 2,
     "metadata": {},
     "output_type": "execute_result"
    }
   ],
   "source": [
    "# Load dataset\n",
    "\n",
    "(xtrain, ytrain), (xtest, ytest) = load_data()\n",
    "x = (xtrain.astype(\"float32\") - 127.5)/127.5\n",
    "x.shape, x.min(), x.max()"
   ]
  },
  {
   "cell_type": "code",
   "execution_count": 3,
   "metadata": {},
   "outputs": [],
   "source": [
    "# Generator\n",
    "\n",
    "def build_generator(latent_dim=100):\n",
    "    generator = Sequential()\n",
    "    \n",
    "    generator.add(Dense(units=7*7*128, input_shape=(latent_dim, )))\n",
    "    generator.add(Reshape((7, 7, 128)))\n",
    "    generator.add(LeakyReLU(alpha=0.3))\n",
    "    generator.add(BatchNormalization())\n",
    "\n",
    "    # (7, 7, 128) --> (14, 14, 64)\n",
    "    generator.add(Conv2DTranspose(filters=64, kernel_size=(3, 3), strides=(2, 2), padding=\"same\"))\n",
    "    generator.add(LeakyReLU(alpha=0.2))\n",
    "    generator.add(BatchNormalization())\n",
    "\n",
    "    # (14, 14, 64) --> (28, 28, 1)\n",
    "    generator.add(Conv2DTranspose(filters=1, kernel_size=(3, 3), strides=(2, 2), padding=\"same\", activation=\"tanh\"))\n",
    "\n",
    "    opt = Adam(learning_rate=0.0002, beta_1=0.5)\n",
    "    generator.compile(loss=\"binary_crossentropy\", optimizer=opt)\n",
    "\n",
    "    return generator"
   ]
  },
  {
   "cell_type": "code",
   "execution_count": 4,
   "metadata": {},
   "outputs": [
    {
     "name": "stdout",
     "output_type": "stream",
     "text": [
      "Metal device set to: Apple M1 Pro\n",
      "\n",
      "systemMemory: 16.00 GB\n",
      "maxCacheSize: 5.33 GB\n",
      "\n",
      "Model: \"sequential\"\n",
      "_________________________________________________________________\n",
      " Layer (type)                Output Shape              Param #   \n",
      "=================================================================\n",
      " dense (Dense)               (None, 6272)              633472    \n",
      "                                                                 \n",
      " reshape (Reshape)           (None, 7, 7, 128)         0         \n",
      "                                                                 \n",
      " leaky_re_lu (LeakyReLU)     (None, 7, 7, 128)         0         \n",
      "                                                                 \n",
      " batch_normalization (BatchN  (None, 7, 7, 128)        512       \n",
      " ormalization)                                                   \n",
      "                                                                 \n",
      " conv2d_transpose (Conv2DTra  (None, 14, 14, 64)       73792     \n",
      " nspose)                                                         \n",
      "                                                                 \n",
      " leaky_re_lu_1 (LeakyReLU)   (None, 14, 14, 64)        0         \n",
      "                                                                 \n",
      " batch_normalization_1 (Batc  (None, 14, 14, 64)       256       \n",
      " hNormalization)                                                 \n",
      "                                                                 \n",
      " conv2d_transpose_1 (Conv2DT  (None, 28, 28, 1)        577       \n",
      " ranspose)                                                       \n",
      "                                                                 \n",
      "=================================================================\n",
      "Total params: 708,609\n",
      "Trainable params: 708,225\n",
      "Non-trainable params: 384\n",
      "_________________________________________________________________\n"
     ]
    },
    {
     "name": "stderr",
     "output_type": "stream",
     "text": [
      "2022-06-08 13:10:57.107877: I tensorflow/core/common_runtime/pluggable_device/pluggable_device_factory.cc:305] Could not identify NUMA node of platform GPU ID 0, defaulting to 0. Your kernel may not have been built with NUMA support.\n",
      "2022-06-08 13:10:57.107981: I tensorflow/core/common_runtime/pluggable_device/pluggable_device_factory.cc:271] Created TensorFlow device (/job:localhost/replica:0/task:0/device:GPU:0 with 0 MB memory) -> physical PluggableDevice (device: 0, name: METAL, pci bus id: <undefined>)\n"
     ]
    }
   ],
   "source": [
    "generator = build_generator(latent_dim=100)\n",
    "generator.summary()"
   ]
  },
  {
   "cell_type": "code",
   "execution_count": 5,
   "metadata": {},
   "outputs": [
    {
     "name": "stdout",
     "output_type": "stream",
     "text": [
      "1/1 [==============================] - 0s 87ms/step\n"
     ]
    },
    {
     "name": "stderr",
     "output_type": "stream",
     "text": [
      "2022-06-08 13:10:57.531206: W tensorflow/core/platform/profile_utils/cpu_utils.cc:128] Failed to get CPU frequency: 0 Hz\n",
      "2022-06-08 13:10:57.583763: I tensorflow/core/grappler/optimizers/custom_graph_optimizer_registry.cc:113] Plugin optimizer for device_type GPU is enabled.\n"
     ]
    },
    {
     "data": {
      "image/png": "[encoded data removed]",
      "text/plain": [
       "<Figure size 432x288 with 1 Axes>"
      ]
     },
     "metadata": {
      "needs_background": "dark"
     },
     "output_type": "display_data"
    }
   ],
   "source": [
    "noise = np.random.normal(0, 1, size=(1, 100))\n",
    "test_image = generator.predict(noise)\n",
    "\n",
    "plt.imshow(test_image.reshape((28, 28)), cmap=\"gray\")\n",
    "plt.show()"
   ]
  },
  {
   "cell_type": "code",
   "execution_count": 6,
   "metadata": {},
   "outputs": [],
   "source": [
    "# Discriminator\n",
    "\n",
    "def build_discriminator():\n",
    "    discriminator = Sequential()\n",
    "\n",
    "    # input --> (28, 28, 1) --> (14, 14, 64)\n",
    "    discriminator.add(Conv2D(filters=64, kernel_size=(3, 3), strides=(2, 2), padding=\"same\", input_shape=(28, 28, 1)))\n",
    "    discriminator.add(LeakyReLU(alpha=0.2))\n",
    "\n",
    "    # (14, 14, 64) --> (7, 7, 128)\n",
    "    discriminator.add(Conv2D(filters=128, kernel_size=(3, 3), strides=(2, 2), padding=\"same\"))\n",
    "    discriminator.add(LeakyReLU(alpha=0.2))\n",
    "\n",
    "    # (7, 7, 128) --> 6272\n",
    "    discriminator.add(Flatten())\n",
    "    discriminator.add(Dense(units=100))\n",
    "    discriminator.add(LeakyReLU(alpha=0.2))\n",
    "\n",
    "    discriminator.add(Dense(units=1, activation=\"sigmoid\"))\n",
    "\n",
    "    opt = Adam(learning_rate=0.0002, beta_1=0.5)\n",
    "    discriminator.compile(loss=\"binary_crossentropy\", optimizer=opt)\n",
    "\n",
    "    return discriminator\n",
    "    "
   ]
  },
  {
   "cell_type": "code",
   "execution_count": 7,
   "metadata": {},
   "outputs": [
    {
     "name": "stdout",
     "output_type": "stream",
     "text": [
      "Model: \"sequential_1\"\n",
      "_________________________________________________________________\n",
      " Layer (type)                Output Shape              Param #   \n",
      "=================================================================\n",
      " conv2d (Conv2D)             (None, 14, 14, 64)        640       \n",
      "                                                                 \n",
      " leaky_re_lu_2 (LeakyReLU)   (None, 14, 14, 64)        0         \n",
      "                                                                 \n",
      " conv2d_1 (Conv2D)           (None, 7, 7, 128)         73856     \n",
      "                                                                 \n",
      " leaky_re_lu_3 (LeakyReLU)   (None, 7, 7, 128)         0         \n",
      "                                                                 \n",
      " flatten (Flatten)           (None, 6272)              0         \n",
      "                                                                 \n",
      " dense_1 (Dense)             (None, 100)               627300    \n",
      "                                                                 \n",
      " leaky_re_lu_4 (LeakyReLU)   (None, 100)               0         \n",
      "                                                                 \n",
      " dense_2 (Dense)             (None, 1)                 101       \n",
      "                                                                 \n",
      "=================================================================\n",
      "Total params: 701,897\n",
      "Trainable params: 701,897\n",
      "Non-trainable params: 0\n",
      "_________________________________________________________________\n"
     ]
    }
   ],
   "source": [
    "discriminator = build_discriminator()\n",
    "discriminator.summary()"
   ]
  },
  {
   "cell_type": "code",
   "execution_count": 8,
   "metadata": {},
   "outputs": [
    {
     "name": "stdout",
     "output_type": "stream",
     "text": [
      "tf.Tensor([[0.5000458]], shape=(1, 1), dtype=float32)\n"
     ]
    }
   ],
   "source": [
    "decision = discriminator(test_image)\n",
    "print(decision)"
   ]
  },
  {
   "cell_type": "code",
   "execution_count": 9,
   "metadata": {},
   "outputs": [],
   "source": [
    "# Define GAN\n",
    "\n",
    "def build_gan(generator, discriminator):\n",
    "    discriminator.trainable = False\n",
    "\n",
    "    gan_input = Input(shape=(100, ))\n",
    "    gen = generator(gan_input)\n",
    "    gan_output = discriminator(gen)\n",
    "    \n",
    "    gan = Model(inputs=gan_input, outputs=gan_output)\n",
    "    gan.compile(loss=\"binary_crossentropy\", optimizer=\"adam\")\n",
    "\n",
    "    return gan"
   ]
  },
  {
   "cell_type": "code",
   "execution_count": 10,
   "metadata": {},
   "outputs": [
    {
     "name": "stdout",
     "output_type": "stream",
     "text": [
      "Model: \"model\"\n",
      "_________________________________________________________________\n",
      " Layer (type)                Output Shape              Param #   \n",
      "=================================================================\n",
      " input_1 (InputLayer)        [(None, 100)]             0         \n",
      "                                                                 \n",
      " sequential (Sequential)     (None, 28, 28, 1)         708609    \n",
      "                                                                 \n",
      " sequential_1 (Sequential)   (None, 1)                 701897    \n",
      "                                                                 \n",
      "=================================================================\n",
      "Total params: 1,410,506\n",
      "Trainable params: 708,225\n",
      "Non-trainable params: 702,281\n",
      "_________________________________________________________________\n"
     ]
    }
   ],
   "source": [
    "gan = build_gan(generator, discriminator)\n",
    "gan.summary()"
   ]
  },
  {
   "cell_type": "code",
   "execution_count": 11,
   "metadata": {},
   "outputs": [
    {
     "data": {
      "text/plain": [
       "(60000, 28, 28, 1)"
      ]
     },
     "execution_count": 11,
     "metadata": {},
     "output_type": "execute_result"
    }
   ],
   "source": [
    "# Reshape dataset\n",
    "\n",
    "x_train_reshaped = x.reshape(-1, 28, 28, 1)\n",
    "x_train_reshaped.shape"
   ]
  },
  {
   "cell_type": "code",
   "execution_count": 12,
   "metadata": {},
   "outputs": [],
   "source": [
    "# Plot images\n",
    "\n",
    "def plot_images(epoch, generator, n_examples=25, dim=(5, 5)):\n",
    "    noise = np.random.normal(0, 1, size=(n_examples, 100))\n",
    "    generated = generator.predict(noise)\n",
    "    generated = generated.reshape(n_examples, 28, 28)\n",
    "    \n",
    "    plt.figure(figsize=dim)\n",
    "    for i in range(generated.shape[0]):\n",
    "        plt.subplot(dim[0], dim[1], i + 1)\n",
    "        plt.imshow(generated[i], interpolation=\"nearest\")\n",
    "        plt.axis(\"off\")\n",
    "    plt.tight_layout()\n",
    "    plt.savefig(f\"generated_image_{epoch + 1}\")\n",
    "    plt.close()"
   ]
  },
  {
   "cell_type": "code",
   "execution_count": 14,
   "metadata": {},
   "outputs": [],
   "source": [
    "# Train\n",
    "\n",
    "def train(epochs, generator, discriminator, gan, dataset, latent_dim, batch_size):\n",
    "\n",
    "    n_batch = int(dataset.shape[0]/batch_size)\n",
    "    half_batch = int(batch_size/2)\n",
    "\n",
    "    d_losses = []\n",
    "    g_losses = []\n",
    "\n",
    "    for epoch in range(epochs):\n",
    "        d_temp_loss = 0.0\n",
    "        g_temp_loss = 0.0\n",
    "\n",
    "        for step in range(n_batch):\n",
    "            \n",
    "            # --> STEP 1: TRAIN DISCRIMINATOR\n",
    "            discriminator.trainable = True\n",
    "\n",
    "            # get real images\n",
    "            indx = np.random.randint(0, dataset.shape[0], half_batch)\n",
    "            x_real = dataset[indx]\n",
    "\n",
    "            # get fake images\n",
    "            noise = np.random.normal(0, 1, size=(half_batch, latent_dim))\n",
    "            x_fake = generator.predict(noise, verbose=0)\n",
    "\n",
    "            # labels: 1 for real, 0 for fake\n",
    "            y_real = np.ones((half_batch, 1)) * 0.9\n",
    "            y_fake = np.zeros((half_batch, 1))\n",
    "\n",
    "            # train discriminator\n",
    "            d_loss_real = discriminator.train_on_batch(x_real, y_real)\n",
    "            d_loss_fake = discriminator.train_on_batch(x_fake, y_fake)\n",
    "\n",
    "            d_loss = 0.5 * (d_loss_real + d_loss_fake)\n",
    "            d_temp_loss += d_loss\n",
    "            d_temp_loss /= n_batch\n",
    "\n",
    "            # --> STEP 2: TRAIN GENERATOR\n",
    "            discriminator.trainable = False\n",
    "\n",
    "            noise = np.random.normal(0, 1, size=(batch_size, latent_dim))\n",
    "            y_noise = np.ones((batch_size, 1))\n",
    "\n",
    "            g_loss = gan.train_on_batch(noise, y_noise)\n",
    "\n",
    "            g_temp_loss += g_loss\n",
    "            g_temp_loss /= n_batch\n",
    "\n",
    "            # Print out\n",
    "            print(f\"Epoch: [{epoch + 1}]\\tDiscriminator loss: [{d_temp_loss}]\\tGenerator Loss: [{g_temp_loss}]\", end=\"\\r\")\n",
    "\n",
    "            d_losses.append(d_temp_loss)\n",
    "            g_losses.append(g_temp_loss)\n",
    "\n",
    "        if (epoch + 1)%10 == 0:\n",
    "            plot_images(epoch=epoch, generator=generator)\n",
    "    \n",
    "    generator.save(f\"mnist_gan_{epochs}_epochs.h5\")\n",
    "\n",
    "    fig, ax = plt.subplots(1, 2, figsize=(18, 7))\n",
    "    ax[0].plot(d_losses)\n",
    "    ax[0].set_title(\"Discriminator Loss\")\n",
    "\n",
    "    ax[1].plot(g_losses)\n",
    "    ax[1].set_title(\"Generator Loss\")\n",
    "    \n",
    "    plt.show()"
   ]
  },
  {
   "cell_type": "code",
   "execution_count": 15,
   "metadata": {},
   "outputs": [
    {
     "name": "stderr",
     "output_type": "stream",
     "text": [
      "2022-06-08 13:13:09.242678: I tensorflow/core/grappler/optimizers/custom_graph_optimizer_registry.cc:113] Plugin optimizer for device_type GPU is enabled.\n",
      "2022-06-08 13:13:09.586060: I tensorflow/core/grappler/optimizers/custom_graph_optimizer_registry.cc:113] Plugin optimizer for device_type GPU is enabled.\n"
     ]
    },
    {
     "name": "stdout",
     "output_type": "stream",
     "text": [
      "1/1 [==============================] - 0s 19ms/step957]\tGenerator Loss: [0.005856207090612659\n",
      "1/1 [==============================] - 0s 8ms/step9724]\tGenerator Loss: [0.005682258291012101\n",
      "Epoch: [21]\tDiscriminator loss: [0.002518023768992919]\tGenerator Loss: [0.0056094277748526145]]\r"
     ]
    },
    {
     "data": {
      "image/png": "[encoded data removed]",
      "text/plain": [
       "<Figure size 1296x504 with 2 Axes>"
      ]
     },
     "metadata": {
      "needs_background": "dark"
     },
     "output_type": "display_data"
    }
   ],
   "source": [
    "# Try model\n",
    "\n",
    "latent_dim = 100\n",
    "batch_size = 256\n",
    "epochs = 21\n",
    "dataset = x_train_reshaped\n",
    "\n",
    "train(\n",
    "\n",
    "    epochs=epochs, \n",
    "    generator=generator, \n",
    "    discriminator=discriminator, \n",
    "    gan=gan, \n",
    "    dataset=dataset, \n",
    "    latent_dim=latent_dim, \n",
    "    batch_size=batch_size\n",
    "\n",
    ")"
   ]
  },
  {
   "cell_type": "code",
   "execution_count": 16,
   "metadata": {},
   "outputs": [
    {
     "name": "stderr",
     "output_type": "stream",
     "text": [
      "2022-06-08 13:22:52.018337: I tensorflow/core/grappler/optimizers/custom_graph_optimizer_registry.cc:113] Plugin optimizer for device_type GPU is enabled.\n"
     ]
    },
    {
     "data": {
      "image/png": "[encoded data removed]",
      "text/plain": [
       "<Figure size 432x288 with 1 Axes>"
      ]
     },
     "metadata": {
      "needs_background": "dark"
     },
     "output_type": "display_data"
    }
   ],
   "source": [
    "# Load model and generate image\n",
    "\n",
    "model = load_model(\"mnist_gan_50_epochs.h5\")\n",
    "\n",
    "noise = np.random.normal(0, 1, (1, 100))\n",
    "img = model.predict(noise, verbose=0)\n",
    "\n",
    "plt.imshow(img.reshape((28, 28)), cmap=\"gray\")\n",
    "plt.show()"
   ]
  },
  {
   "cell_type": "code",
   "execution_count": null,
   "metadata": {},
   "outputs": [],
   "source": []
  }
 ],
 "metadata": {
  "interpreter": {
   "hash": "80ee14b2f078f7f27c93729cf970ac19fde433a46a5f3d9743df5f244242e4d3"
  },
  "kernelspec": {
   "display_name": "Machine Learning",
   "language": "python",
   "name": "ml"
  },
  "language_info": {
   "codemirror_mode": {
    "name": "ipython",
    "version": 3
   },
   "file_extension": ".py",
   "mimetype": "text/x-python",
   "name": "python",
   "nbconvert_exporter": "python",
   "pygments_lexer": "ipython3",
   "version": "3.9.13"
  },
  "orig_nbformat": 4
 },
 "nbformat": 4,
 "nbformat_minor": 2
}
