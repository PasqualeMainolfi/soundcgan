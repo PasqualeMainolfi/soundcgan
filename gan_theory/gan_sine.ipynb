{
 "cells": [
  {
   "cell_type": "markdown",
   "metadata": {},
   "source": [
    "## SINE GENERATION WITH 1D GAN"
   ]
  },
  {
   "cell_type": "code",
   "execution_count": 1,
   "metadata": {},
   "outputs": [],
   "source": [
    "import numpy as np\n",
    "import matplotlib.pyplot as plt\n",
    "from matplotlib import style\n",
    "\n",
    "from keras.layers import Dense, ReLU\n",
    "from keras.models import Sequential\n",
    "from keras.optimizers import Adam\n",
    "\n",
    "style.use(\"dark_background\")"
   ]
  },
  {
   "cell_type": "code",
   "execution_count": 2,
   "metadata": {},
   "outputs": [],
   "source": [
    "# define optimizer\n",
    "\n",
    "adam = Adam(learning_rate=0.0002)"
   ]
  },
  {
   "cell_type": "code",
   "execution_count": 3,
   "metadata": {},
   "outputs": [],
   "source": [
    "# define macro\n",
    "\n",
    "LATENT_DIM = 5\n",
    "SHAPE_OUT = 2"
   ]
  },
  {
   "cell_type": "code",
   "execution_count": 4,
   "metadata": {},
   "outputs": [],
   "source": [
    "# define generator\n",
    "\n",
    "def build_generator(latent_dim, shape_out):\n",
    "\n",
    "    generator = Sequential(name=\"GENERATOR\")\n",
    "\n",
    "    generator.add(Dense(units=25, input_dim=latent_dim))\n",
    "    generator.add(ReLU())\n",
    "\n",
    "    generator.add(Dense(units=shape_out, activation=\"sigmoid\"))\n",
    "\n",
    "    generator.compile(loss=\"binary_crossentropy\", optimizer=adam, metrics=[\"accuracy\"])\n",
    "\n",
    "    return generator\n"
   ]
  },
  {
   "cell_type": "code",
   "execution_count": 5,
   "metadata": {},
   "outputs": [
    {
     "name": "stdout",
     "output_type": "stream",
     "text": [
      "Metal device set to: Apple M1 Pro\n",
      "\n",
      "systemMemory: 16.00 GB\n",
      "maxCacheSize: 5.33 GB\n",
      "\n",
      "Model: \"GENERATOR\"\n",
      "_________________________________________________________________\n",
      " Layer (type)                Output Shape              Param #   \n",
      "=================================================================\n",
      " dense (Dense)               (None, 25)                150       \n",
      "                                                                 \n",
      " re_lu (ReLU)                (None, 25)                0         \n",
      "                                                                 \n",
      " dense_1 (Dense)             (None, 2)                 52        \n",
      "                                                                 \n",
      "=================================================================\n",
      "Total params: 202\n",
      "Trainable params: 202\n",
      "Non-trainable params: 0\n",
      "_________________________________________________________________\n"
     ]
    },
    {
     "name": "stderr",
     "output_type": "stream",
     "text": [
      "2022-06-09 00:42:59.043284: I tensorflow/core/common_runtime/pluggable_device/pluggable_device_factory.cc:305] Could not identify NUMA node of platform GPU ID 0, defaulting to 0. Your kernel may not have been built with NUMA support.\n",
      "2022-06-09 00:42:59.043407: I tensorflow/core/common_runtime/pluggable_device/pluggable_device_factory.cc:271] Created TensorFlow device (/job:localhost/replica:0/task:0/device:GPU:0 with 0 MB memory) -> physical PluggableDevice (device: 0, name: METAL, pci bus id: <undefined>)\n"
     ]
    }
   ],
   "source": [
    "generator = build_generator(latent_dim=LATENT_DIM, shape_out=SHAPE_OUT)\n",
    "generator.summary()"
   ]
  },
  {
   "cell_type": "code",
   "execution_count": 6,
   "metadata": {},
   "outputs": [],
   "source": [
    "def build_discriminator(input_dim):\n",
    "\n",
    "    discriminator = Sequential(name=\"DISCRIMINATOR\")\n",
    "    discriminator.add(Dense(units=25, input_shape=(input_dim, )))\n",
    "    discriminator.add(ReLU())\n",
    "\n",
    "    discriminator.add(Dense(units=1, activation=\"sigmoid\"))\n",
    "    \n",
    "    discriminator.compile(loss=\"binary_crossentropy\", optimizer=adam, metrics=[\"accuracy\"])\n",
    "\n",
    "    return discriminator"
   ]
  },
  {
   "cell_type": "code",
   "execution_count": 7,
   "metadata": {},
   "outputs": [
    {
     "name": "stdout",
     "output_type": "stream",
     "text": [
      "Model: \"DISCRIMINATOR\"\n",
      "_________________________________________________________________\n",
      " Layer (type)                Output Shape              Param #   \n",
      "=================================================================\n",
      " dense_2 (Dense)             (None, 25)                75        \n",
      "                                                                 \n",
      " re_lu_1 (ReLU)              (None, 25)                0         \n",
      "                                                                 \n",
      " dense_3 (Dense)             (None, 1)                 26        \n",
      "                                                                 \n",
      "=================================================================\n",
      "Total params: 101\n",
      "Trainable params: 101\n",
      "Non-trainable params: 0\n",
      "_________________________________________________________________\n"
     ]
    }
   ],
   "source": [
    "discriminator = build_discriminator(input_dim=SHAPE_OUT)\n",
    "discriminator.summary()"
   ]
  },
  {
   "cell_type": "code",
   "execution_count": 8,
   "metadata": {},
   "outputs": [],
   "source": [
    "# generate real samples\n",
    "\n",
    "def generate_real_samples(n_samples):\n",
    "\n",
    "    x = np.random.randn(n_samples)\n",
    "    y = np.sin(x)\n",
    "    x = x.reshape(n_samples, 1)\n",
    "    y = y.reshape(n_samples, 1)\n",
    "    x_real = np.hstack((x, y))\n",
    "    y_real = np.ones((n_samples, 1))\n",
    "\n",
    "    return x_real, y_real"
   ]
  },
  {
   "cell_type": "code",
   "execution_count": 9,
   "metadata": {},
   "outputs": [
    {
     "data": {
      "image/png": "[encoded data removed]",
      "text/plain": [
       "<Figure size 432x288 with 1 Axes>"
      ]
     },
     "metadata": {
      "needs_background": "dark"
     },
     "output_type": "display_data"
    }
   ],
   "source": [
    "real_x, _ = generate_real_samples(n_samples=100)\n",
    "\n",
    "plt.scatter(real_x[:, 0], real_x[:, 1])\n",
    "plt.show()"
   ]
  },
  {
   "cell_type": "code",
   "execution_count": 10,
   "metadata": {},
   "outputs": [],
   "source": [
    "# generate latent space and fake samples\n",
    "\n",
    "def generate_latent_dimension(latent_dim, n_samples):\n",
    "\n",
    "    x = np.random.randn(latent_dim * n_samples)\n",
    "    x = x.reshape(n_samples, latent_dim)\n",
    "\n",
    "    return x\n",
    "\n",
    "def generate_fake_samples(model, latent_dim, n_samples):\n",
    "\n",
    "    x_fake = generate_latent_dimension(latent_dim=latent_dim, n_samples=n_samples)\n",
    "    x_fake = model.predict(x_fake, verbose=0)\n",
    "    y_fake = np.zeros((n_samples, 1))\n",
    "\n",
    "    return x_fake, y_fake"
   ]
  },
  {
   "cell_type": "code",
   "execution_count": 11,
   "metadata": {},
   "outputs": [
    {
     "name": "stderr",
     "output_type": "stream",
     "text": [
      "2022-06-09 00:43:07.298240: W tensorflow/core/platform/profile_utils/cpu_utils.cc:128] Failed to get CPU frequency: 0 Hz\n",
      "2022-06-09 00:43:07.329240: I tensorflow/core/grappler/optimizers/custom_graph_optimizer_registry.cc:113] Plugin optimizer for device_type GPU is enabled.\n"
     ]
    },
    {
     "data": {
      "image/png": "[encoded data removed]",
      "text/plain": [
       "<Figure size 432x288 with 1 Axes>"
      ]
     },
     "metadata": {
      "needs_background": "dark"
     },
     "output_type": "display_data"
    }
   ],
   "source": [
    "x_fake, _ = generate_fake_samples(model=generator, latent_dim=LATENT_DIM, n_samples=100)\n",
    "\n",
    "plt.scatter(x_fake[:, 0], x_fake[:, 1])\n",
    "plt.show()"
   ]
  },
  {
   "cell_type": "code",
   "execution_count": 12,
   "metadata": {},
   "outputs": [],
   "source": [
    "# define GAN\n",
    "\n",
    "def build_gan(generator, discriminator):\n",
    "    discriminator.trainable = False\n",
    "\n",
    "    gan = Sequential(name=\"COMBINED_MODEL\")\n",
    "    gan.add(generator)\n",
    "    gan.add(discriminator)\n",
    "\n",
    "    gan.compile(loss=\"binary_crossentropy\", optimizer=adam)\n",
    "\n",
    "    return gan"
   ]
  },
  {
   "cell_type": "code",
   "execution_count": 13,
   "metadata": {},
   "outputs": [
    {
     "name": "stdout",
     "output_type": "stream",
     "text": [
      "Model: \"COMBINED_MODEL\"\n",
      "_________________________________________________________________\n",
      " Layer (type)                Output Shape              Param #   \n",
      "=================================================================\n",
      " GENERATOR (Sequential)      (None, 2)                 202       \n",
      "                                                                 \n",
      " DISCRIMINATOR (Sequential)  (None, 1)                 101       \n",
      "                                                                 \n",
      "=================================================================\n",
      "Total params: 303\n",
      "Trainable params: 202\n",
      "Non-trainable params: 101\n",
      "_________________________________________________________________\n"
     ]
    }
   ],
   "source": [
    "gan = build_gan(generator=generator, discriminator=discriminator)\n",
    "gan.summary()"
   ]
  },
  {
   "cell_type": "code",
   "execution_count": 14,
   "metadata": {},
   "outputs": [],
   "source": [
    "# summary of performace\n",
    "\n",
    "def summarize(generator, discriminator, latent_dim, n_samples, epoch):\n",
    "\n",
    "    x_real, y_real = generate_real_samples(n_samples=n_samples)\n",
    "    x_fake, y_fake = generate_fake_samples(model=generator, latent_dim=latent_dim, n_samples=n_samples)\n",
    "\n",
    "    loss_real, acc_real = discriminator.evaluate(x_real, y_real)\n",
    "    loss_fake, acc_fake = discriminator.evaluate(x_fake, y_fake)\n",
    "\n",
    "    print(f\"EPOCH [{epoch + 1}]\\tACCURACY REAL [{acc_real}]\\tACCURACY FAKE [{acc_fake}]\")\n",
    "\n",
    "    plt.scatter(x_real[:, 0], x_real[:, 1], color=\"r\")\n",
    "    plt.scatter(x_fake[:, 0], x_fake[:, 1], color=\"y\")\n",
    "    plt.show()\n"
   ]
  },
  {
   "cell_type": "code",
   "execution_count": 15,
   "metadata": {},
   "outputs": [],
   "source": [
    "# train model\n",
    "\n",
    "def train_model(epochs, generator, discriminator, gan, latent_dim, batch_size):\n",
    "    \n",
    "    half_batch = batch_size//2\n",
    "\n",
    "    for epoch in range(epochs):\n",
    "\n",
    "        # generate real samples and train discriminator\n",
    "        discriminator.trainable = True\n",
    "        x_real, y_real = generate_real_samples(n_samples=half_batch)\n",
    "        x_fake, y_fake = generate_fake_samples(model=generator, latent_dim=latent_dim, n_samples=half_batch)\n",
    "\n",
    "        discriminator.train_on_batch(x_real, y_real)\n",
    "        discriminator.train_on_batch(x_fake, y_fake)\n",
    "\n",
    "        # train gan\n",
    "        discriminator.trainable = False\n",
    "        x_gan = generate_latent_dimension(latent_dim=latent_dim, n_samples=batch_size)\n",
    "        y_gan = np.ones((batch_size, 1))\n",
    "\n",
    "        gan.train_on_batch(x_gan, y_gan)\n",
    "\n",
    "        if epoch%100 == 0:\n",
    "            summarize(generator, discriminator, latent_dim, 100, epoch)\n",
    "\n"
   ]
  },
  {
   "cell_type": "code",
   "execution_count": null,
   "metadata": {},
   "outputs": [],
   "source": [
    "epochs = 1000\n",
    "batch_size = 128\n",
    "\n",
    "train_model(\n",
    "\n",
    "    epochs=epochs, \n",
    "    generator=generator,\n",
    "    discriminator=discriminator,\n",
    "    gan=gan,\n",
    "    latent_dim=LATENT_DIM,\n",
    "    batch_size=batch_size\n",
    "\n",
    ")"
   ]
  },
  {
   "cell_type": "code",
   "execution_count": null,
   "metadata": {},
   "outputs": [],
   "source": []
  }
 ],
 "metadata": {
  "kernelspec": {
   "display_name": "Machine Learning",
   "language": "python",
   "name": "ml"
  },
  "language_info": {
   "codemirror_mode": {
    "name": "ipython",
    "version": 3
   },
   "file_extension": ".py",
   "mimetype": "text/x-python",
   "name": "python",
   "nbconvert_exporter": "python",
   "pygments_lexer": "ipython3",
   "version": "3.9.13"
  },
  "orig_nbformat": 4
 },
 "nbformat": 4,
 "nbformat_minor": 2
}
